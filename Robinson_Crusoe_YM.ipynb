{
  "nbformat": 4,
  "nbformat_minor": 0,
  "metadata": {
    "colab": {
      "name": "Robinson Crusoe YM.ipynb",
      "provenance": [],
      "collapsed_sections": [],
      "include_colab_link": true
    },
    "kernelspec": {
      "name": "python3",
      "display_name": "Python 3"
    }
  },
  "cells": [
    {
      "cell_type": "markdown",
      "metadata": {
        "id": "view-in-github",
        "colab_type": "text"
      },
      "source": [
        "<a href=\"https://colab.research.google.com/github/athenian-ct-projects/Robinson-Crusoe-Day-YM/blob/master/Robinson_Crusoe_YM.ipynb\" target=\"_parent\"><img src=\"https://colab.research.google.com/assets/colab-badge.svg\" alt=\"Open In Colab\"/></a>"
      ]
    },
    {
      "cell_type": "markdown",
      "metadata": {
        "id": "ILTFEt9iQk1A",
        "colab_type": "text"
      },
      "source": [
        "Robinson Crusoe Oregon Trail-type game\n",
        "\n",
        "Yuvi Multani '23"
      ]
    },
    {
      "cell_type": "markdown",
      "metadata": {
        "id": "1He8v2PY1Ozb",
        "colab_type": "text"
      },
      "source": [
        "Rules: \n",
        "There can be any number of players, but you will all be playing as a single character. You should work together and use logic to live on and escape the island.\n",
        "\n",
        "Even though you should collaborate in order to keep your character alive, all players must rotate turns making the decision. The person who has the turn makes the final decision.\n",
        "\n",
        "However, if the character dies as a result of your decision, you are kicked out of the game. The character will \"respawn\" and the remaining players will continue with the game, but you are not allowed to help them. "
      ]
    },
    {
      "cell_type": "code",
      "metadata": {
        "id": "J5XeBxo6iLHZ",
        "colab_type": "code",
        "outputId": "8c51a8ae-3564-438b-95db-efe77a6a3e81",
        "colab": {
          "base_uri": "https://localhost:8080/",
          "height": 119
        }
      },
      "source": [
        "#Functions\n",
        "\n",
        " \n",
        "import time\n",
        "\n",
        "def turncounter(j):\n",
        "  while (j>=0 and j<=5):\n",
        "    j = j+1\n",
        "    time.sleep(20)\n",
        "    print(\"Turn\"+\" \" +str(j)) \n",
        "    break\n",
        "\n",
        "def turnlimit(x):\n",
        "  for x in range (1,5):\n",
        "    print(\"Begin!\")\n",
        "    x = x+1\n",
        "    time.sleep(20)\n",
        "    print(\"You're getting the hang of this!\")\n",
        "    x = x+1\n",
        "    time.sleep(20)\n",
        "    print(\"You're halfway there!\")\n",
        "    x = x+1\n",
        "    time.sleep(20)\n",
        "    print(\"Almost at the finish!\")\n",
        "    x = x+1\n",
        "    time.sleep(20)\n",
        "    print(\"Congratulations! You have finished this game!\")\n",
        "    x = x+1\n",
        "    break\n",
        "\n",
        "\n",
        "def next1():\n",
        "    sheltermat = input(\"Now it's time to build a shelter, the island you are on is very stormy and windy. You have two options for materials, stone or wood. \\nWhich one will you build your shelter with?: \")\n",
        "    stonewood(sheltermat)\n",
        " \n",
        "    \n",
        "def stonewood(sheltermat):\n",
        "  if sheltermat == \"stone\" or sheltermat == \"Stone\":\n",
        "    print(\"Great! It took a lot of time and energy, but you built a sturdy shelter for your time on this island.\")\n",
        "    escape = input(\"You're nearly out of supplies on the island, and you think it's time to escape. However, there are sharks circling the island. \\nDo you want to leave the island?(yes/no) \")\n",
        "    if escape == \"yes\" or escape == \"Yes\":\n",
        "      yesno2(escape)\n",
        "    elif escape == \"no\" or escape == \"No\":\n",
        "      yesno2(escape)\n",
        "    else: \n",
        "      print(\"Please choose yes or no\")\n",
        "      stonewood(sheltermat)\n",
        "      yesno2(escape)\n",
        "    \n",
        "  elif sheltermat== \"wood\" or sheltermat == \"Wood\":\n",
        "    print(\"Oh no! Your shelter was very unstable, and collapsed during a storm. The wood fell on you and killed you! Next person's turn\")\n",
        "    next2()\n",
        "  else:\n",
        "    print(\"error, please choose wood or stone(not case-sensitive)\")\n",
        "    time.sleep(2)\n",
        "    next2()\n",
        "\n",
        "def forest1():\n",
        "  print(\"While looking in the forest for food, you run into a bear\")\n",
        "  forest1death = input(\"Do you run away?(yes/no): \")\n",
        "  if forest1death == \"yes\" or forest1death == \"Yes\":\n",
        "    print(\"Oh no! The bear caught up to you, and killed you! You've been knocked out of the game\")\n",
        "    time.sleep(3)\n",
        "    next1()\n",
        "  elif forest1death == \"no\" or forest1death == \"No\":\n",
        "    print(\"You lived! Bears have terrible eyesight, so it didn't notice you,\")\n",
        "    def redblueberry():\n",
        "      berrychoice = input(\"But you still have to get food, and you found two berry bushes, one red and one blue, which color berry will you harvest?:\")\n",
        "      if berrychoice == \"Blue\" or berrychoice == \"blue\":\n",
        "        print(\"Oh no! The blue berry was poisonous, and you died! You've been knocked out of the game\")\n",
        "        time.sleep(3)\n",
        "        next1()\n",
        "      elif berrychoice == \"red\" or berrychoice == \"Red\":\n",
        "        print(\"Red isn't always bad, the berries turned out to be a great source of energy and nutrition for you\")\n",
        "        next1()\n",
        "      else:\n",
        "        print(\"error, please choose red or blue\")\n",
        "  redblueberry()\n",
        "\n",
        "\n",
        "def yesnofirst(yesno1):\n",
        "  if yesno1 == \"yes\" or yesno1 == \"Yes\":\n",
        "    forest1()\n",
        "  elif yesno1 == \"no\" or yesno1== \"No\":\n",
        "    time.sleep(3)\n",
        "    next1()\n",
        "  else:\n",
        "    print(\"error, please choose yes or no\")\n",
        "    yesnofirst()\n",
        "\n",
        "\n",
        "def yesno2(escape):\n",
        "  if escape == \"Yes\" or escape == \"yes\":\n",
        "    cutboat= input(\"While building your escape raft, you cut yourself pretty bad, are you sure you want to keep going?: \")\n",
        "    if cutboat == \"yes\" or cutboat == \"Yes\":\n",
        "      print(\"Oh no! The sharks picked up on the scent of your blood from the cut, and they killed you! Game over!\")\n",
        "    elif cutboat == \"no\" or cutboat == \"No\":\n",
        "      print(\"Congrats! You played it safe and it paid off. A sailor found you on the island, and rescued you! You have completed the game!\")\n",
        "      print(\"The input for escaping is going to come up again, ignore it, you can leave now, thank you for playing!\")\n",
        "  elif escape == \"No\" or escape == \"no\":\n",
        "    print(\"Congrats! Your patience paid off. A sailor found you on the island, and rescued you! You have completed the game!\")\n",
        "\n",
        "turncounter(0)\n",
        "turnlimit(1)\n",
        " \n",
        "\n",
        "\n",
        "\n",
        "\n"
      ],
      "execution_count": 0,
      "outputs": [
        {
          "output_type": "stream",
          "text": [
            "Turn 1\n",
            "Begin!\n",
            "You're getting the hang of this!\n",
            "You're halfway there!\n",
            "Almost at the finish!\n",
            "Congratulations! You have finished this game!\n"
          ],
          "name": "stdout"
        }
      ]
    },
    {
      "cell_type": "code",
      "metadata": {
        "id": "yB3jLh9sjYoS",
        "colab_type": "code",
        "outputId": "a532148d-1255-4f6e-a21b-c8c518a9fadc",
        "colab": {
          "base_uri": "https://localhost:8080/",
          "height": 102
        }
      },
      "source": [
        "#Main Text Area\n",
        "import time\n",
        "def alltext():\n",
        "  print(\"The four of you are stuck on an island in the middle of the sea, with no escape in sight\")\n",
        "  print(\"You must survive using all the materials that have been provided to you in this game\")\n",
        "  yesno1 = input(\"First task, you have to find food, choose a delegate to go the forest and scavenge for food, are you ready?: \")\n",
        "  yesnofirst(yesno1)\n",
        "  next1()\n",
        "\n",
        "\n",
        "\n",
        "alltext()\n",
        "\n",
        "\n",
        "\n"
      ],
      "execution_count": 0,
      "outputs": [
        {
          "output_type": "stream",
          "text": [
            "The four of you are stuck on an island in the middle of the sea, with no escape in sight\n",
            "You must survive using all the materials that have been provided to you in this game\n",
            "While looking in the forest for food, you run into a bear\n",
            "You lived! Bears have terrible eyesight, so it didn't notice you,\n",
            "Red isn't always bad, the berries turned out to be a great source of energy and nutrition for you\n"
          ],
          "name": "stdout"
        }
      ]
    }
  ]
}